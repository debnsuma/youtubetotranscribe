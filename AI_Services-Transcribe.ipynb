{
 "cells": [
  {
   "cell_type": "code",
   "execution_count": 1,
   "metadata": {
    "scrolled": true
   },
   "outputs": [],
   "source": [
    "#!pip install pytube"
   ]
  },
  {
   "cell_type": "markdown",
   "metadata": {},
   "source": [
    "# Download YouTube Video Locally "
   ]
  },
  {
   "cell_type": "code",
   "execution_count": 2,
   "metadata": {},
   "outputs": [],
   "source": [
    "from pytube import YouTube \n",
    "\n",
    "def download_video_from_youtube(link, file_name):\n",
    "    \n",
    "    yt = YouTube(link)   \n",
    "    stream = yt.streams.first()\n",
    "    file_path = stream.download(filename=file_name)  \n",
    "    \n",
    "    print(f\"The file is saved at : {file_path}\")\n",
    "    \n",
    "    return file_path"
   ]
  },
  {
   "cell_type": "code",
   "execution_count": 3,
   "metadata": {},
   "outputs": [],
   "source": [
    "# link of the video to be downloaded (Update this link)\n",
    "link = \"https://www.youtube.com/watch?v=k9f1TTiqWr4\" \n",
    "\n",
    "# Name of the saved file (Update with any name of your choice)\n",
    "file_name = \"DataLakeinAmazonS3Kumar.mp4\"\n",
    "final_file_name = \"DataLakeinAmazonS3Kumar\""
   ]
  },
  {
   "cell_type": "code",
   "execution_count": 4,
   "metadata": {},
   "outputs": [
    {
     "name": "stdout",
     "output_type": "stream",
     "text": [
      "The file is saved at : /home/ec2-user/SageMaker/AI_Demos/DataLakeinAmazonS3Kumarmp4.mp4\n"
     ]
    }
   ],
   "source": [
    "file_path = download_video_from_youtube(link, file_name)"
   ]
  },
  {
   "cell_type": "markdown",
   "metadata": {},
   "source": [
    "# Upload the file to S3"
   ]
  },
  {
   "cell_type": "code",
   "execution_count": 5,
   "metadata": {},
   "outputs": [],
   "source": [
    "import boto3\n",
    "session = boto3.Session()\n",
    "\n",
    "def upload_file(file_name, bucket, object_name=None):\n",
    "    \n",
    "    # If S3 object_name was not specified, use file_name\n",
    "    if object_name is None:\n",
    "        object_name = file_name\n",
    "\n",
    "    # Upload the file\n",
    "    s3_client = boto3.client('s3')\n",
    "    try:\n",
    "        response = s3_client.upload_file(file_name, bucket, object_name)\n",
    "    except ClientError as e:\n",
    "        logging.error(e)\n",
    "        return False\n",
    "    \n",
    "    return True"
   ]
  },
  {
   "cell_type": "code",
   "execution_count": 6,
   "metadata": {},
   "outputs": [
    {
     "data": {
      "text/plain": [
       "True"
      ]
     },
     "execution_count": 6,
     "metadata": {},
     "output_type": "execute_result"
    }
   ],
   "source": [
    "# Update your bucket name \n",
    "bucket= 'my-ai-bucket-suman'\n",
    "\n",
    "upload_file(file_path, bucket, object_name=file_name)"
   ]
  },
  {
   "cell_type": "markdown",
   "metadata": {},
   "source": [
    "# Amazon Transcribe"
   ]
  },
  {
   "cell_type": "code",
   "execution_count": 7,
   "metadata": {},
   "outputs": [],
   "source": [
    "client = session.client('transcribe')"
   ]
  },
  {
   "cell_type": "code",
   "execution_count": 8,
   "metadata": {},
   "outputs": [],
   "source": [
    "job_name = \"myjob1\"\n",
    "job_uri = f\"https://{bucket}.s3.amazonaws.com/{file_name}\""
   ]
  },
  {
   "cell_type": "code",
   "execution_count": 9,
   "metadata": {},
   "outputs": [
    {
     "data": {
      "text/plain": [
       "{'TranscriptionJob': {'TranscriptionJobName': 'myjob1',\n",
       "  'TranscriptionJobStatus': 'IN_PROGRESS',\n",
       "  'LanguageCode': 'en-US',\n",
       "  'MediaFormat': 'mp4',\n",
       "  'Media': {'MediaFileUri': 'https://my-ai-bucket-suman.s3.amazonaws.com/DataLakeinAmazonS3Kumar.mp4'},\n",
       "  'StartTime': datetime.datetime(2021, 7, 18, 13, 25, 0, 972000, tzinfo=tzlocal()),\n",
       "  'CreationTime': datetime.datetime(2021, 7, 18, 13, 25, 0, 952000, tzinfo=tzlocal())},\n",
       " 'ResponseMetadata': {'RequestId': 'f4587330-f455-4f11-a52f-c9a27cf50294',\n",
       "  'HTTPStatusCode': 200,\n",
       "  'HTTPHeaders': {'content-type': 'application/x-amz-json-1.1',\n",
       "   'date': 'Sun, 18 Jul 2021 13:25:00 GMT',\n",
       "   'x-amzn-requestid': 'f4587330-f455-4f11-a52f-c9a27cf50294',\n",
       "   'content-length': '296',\n",
       "   'connection': 'keep-alive'},\n",
       "  'RetryAttempts': 0}}"
      ]
     },
     "execution_count": 9,
     "metadata": {},
     "output_type": "execute_result"
    }
   ],
   "source": [
    "client.start_transcription_job(TranscriptionJobName=job_name, \n",
    "                               Media={'MediaFileUri': job_uri}, \n",
    "                               MediaFormat='mp4', LanguageCode='en-US'\n",
    "                              )"
   ]
  },
  {
   "cell_type": "code",
   "execution_count": 10,
   "metadata": {},
   "outputs": [
    {
     "name": "stdout",
     "output_type": "stream",
     "text": [
      "Not ready yet...\n",
      "Not ready yet...\n",
      "Not ready yet...\n",
      "Not ready yet...\n",
      "Not ready yet...\n",
      "Not ready yet...\n",
      "Not ready yet...\n",
      "Not ready yet...\n",
      "Not ready yet...\n",
      "Not ready yet...\n",
      "Not ready yet...\n",
      "Not ready yet...\n",
      "Not ready yet...\n",
      "Not ready yet...\n",
      "Not ready yet...\n",
      "Not ready yet...\n",
      "Not ready yet...\n",
      "Not ready yet...\n",
      "Not ready yet...\n",
      "Not ready yet...\n",
      "Not ready yet...\n",
      "Not ready yet...\n",
      "Not ready yet...\n",
      "Not ready yet...\n",
      "Not ready yet...\n",
      "Not ready yet...\n",
      "Not ready yet...\n",
      "Not ready yet...\n",
      "Not ready yet...\n",
      "Not ready yet...\n",
      "Not ready yet...\n",
      "Not ready yet...\n",
      "Not ready yet...\n",
      "Not ready yet...\n",
      "Not ready yet...\n",
      "Not ready yet...\n",
      "Not ready yet...\n",
      "Not ready yet...\n",
      "TranscriptionJobStatus : COMPLETED\n"
     ]
    }
   ],
   "source": [
    "import time\n",
    "import urllib.request\n",
    "\n",
    "while True:\n",
    "    status = client.get_transcription_job(TranscriptionJobName=job_name)\n",
    "    if status['TranscriptionJob']['TranscriptionJobStatus'] in ['COMPLETED', 'FAILED']:\n",
    "        break\n",
    "    print(\"Not ready yet...\")\n",
    "    time.sleep(10)\n",
    "    \n",
    "print(f'TranscriptionJobStatus : {status[\"TranscriptionJob\"][\"TranscriptionJobStatus\"]}')"
   ]
  },
  {
   "cell_type": "code",
   "execution_count": 11,
   "metadata": {},
   "outputs": [],
   "source": [
    "response = client.get_transcription_job(TranscriptionJobName=job_name)\n",
    "url = response[\"TranscriptionJob\"][\"Transcript\"][\"TranscriptFileUri\"]\n",
    "output_file_name = urllib.request.urlretrieve(url, f\"{final_file_name}.json\")[0]"
   ]
  },
  {
   "cell_type": "code",
   "execution_count": 12,
   "metadata": {},
   "outputs": [],
   "source": [
    "import json\n",
    "\n",
    "with open(output_file_name) as json_file:\n",
    "    data = json.load(json_file)\n",
    "\n",
    "final_text = data[\"results\"][\"transcripts\"][0][\"transcript\"]\n",
    "\n",
    "with open(f\"{final_file_name}.txt\", \"w\") as text_file:\n",
    "    text_file.write(final_text)\n",
    "    "
   ]
  },
  {
   "cell_type": "code",
   "execution_count": 13,
   "metadata": {},
   "outputs": [
    {
     "name": "stdout",
     "output_type": "stream",
     "text": [
      "Final transcribed file is saved in the present working directory : DataLakeinAmazonS3Kumar.txt\n"
     ]
    }
   ],
   "source": [
    "print(f\"Final transcribed file is saved in the present working directory : {final_file_name}.txt\")"
   ]
  },
  {
   "cell_type": "markdown",
   "metadata": {},
   "source": [
    "# Delete the job"
   ]
  },
  {
   "cell_type": "code",
   "execution_count": 14,
   "metadata": {},
   "outputs": [
    {
     "data": {
      "text/plain": [
       "{'ResponseMetadata': {'RequestId': '30e9299f-e711-485c-9164-be092388ae5e',\n",
       "  'HTTPStatusCode': 200,\n",
       "  'HTTPHeaders': {'content-type': 'application/x-amz-json-1.1',\n",
       "   'date': 'Sun, 18 Jul 2021 13:31:23 GMT',\n",
       "   'x-amzn-requestid': '30e9299f-e711-485c-9164-be092388ae5e',\n",
       "   'content-length': '0',\n",
       "   'connection': 'keep-alive'},\n",
       "  'RetryAttempts': 0}}"
      ]
     },
     "execution_count": 14,
     "metadata": {},
     "output_type": "execute_result"
    }
   ],
   "source": [
    "client.delete_transcription_job(TranscriptionJobName=job_name)"
   ]
  },
  {
   "cell_type": "code",
   "execution_count": null,
   "metadata": {},
   "outputs": [],
   "source": []
  }
 ],
 "metadata": {
  "kernelspec": {
   "display_name": "conda_pytorch_p36",
   "language": "python",
   "name": "conda_pytorch_p36"
  },
  "language_info": {
   "codemirror_mode": {
    "name": "ipython",
    "version": 3
   },
   "file_extension": ".py",
   "mimetype": "text/x-python",
   "name": "python",
   "nbconvert_exporter": "python",
   "pygments_lexer": "ipython3",
   "version": "3.6.13"
  }
 },
 "nbformat": 4,
 "nbformat_minor": 2
}
